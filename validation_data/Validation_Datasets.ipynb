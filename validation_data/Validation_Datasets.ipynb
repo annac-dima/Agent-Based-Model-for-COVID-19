{
 "cells": [
  {
   "cell_type": "markdown",
   "metadata": {},
   "source": [
    "## BUILD COUNTRY-SPECIFIC DEATHS VALIDATION DATASETS\n",
    "\n",
    "Source: https://github.com/owid/covid-19-data/tree/master/public/data    \n",
    "\n",
    "Script to build a dataset containing the number of reported COVID-19 deaths in a specific country in a given time-range. The output is saved in *Country_deaths.csv* file in the country-specific folder in the target directory. \n",
    "\n",
    "There will be created two types of validation datasets for each country:\n",
    "- Validation Datasets Experiment: dataset with the validation data from 10th Feb up to 15th of April\n",
    "- Validation Datasets Policy: dataset with the validation data from 10th Feb up to 15th of May\n",
    "\n",
    "The choice for the t_start for retrieving the validation data is arbitrary. It is shared for both validation types. It can be chosen arbitrary but it must be a date _before_ the imposition of the lockdowns in the countries (which usually occurred at the early period of March). \n",
    "The end date in case for the Policy is farthest as it is considered a larger time span. "
   ]
  },
  {
   "cell_type": "markdown",
   "metadata": {},
   "source": [
    "### TABLE OF CONTENTS     \n",
    "[1. Build Validation Datasets Function](#validation_fn)       \n",
    "[2. Export Validation Datasets](#export)       \n",
    "[2.1 Validation Datasets for Experiments](#validation_ex)       \n",
    "[2.2 Validation Datasets for Policy](#validation_pol)       "
   ]
  },
  {
   "cell_type": "code",
   "execution_count": 5,
   "metadata": {},
   "outputs": [],
   "source": [
    "# Import libraries\n",
    "import pandas as pd\n",
    "import numpy as np\n",
    "import datetime\n",
    "import os\n",
    "\n",
    "# base directory where it is store the Source covid-data-deaths.csv\n",
    "b_dir = './Source'\n",
    "# target directory where to store the validation datasets \n",
    "target_dir_experiment = './Experiments' # save the validation data for the experiments\n",
    "target_dir_policy = './Policy' # save the validation data for the policies"
   ]
  },
  {
   "cell_type": "markdown",
   "metadata": {},
   "source": [
    "### 1.  Build Validation Datasets Functions \n",
    "<a id=\"validation_fn\"></a>"
   ]
  },
  {
   "cell_type": "code",
   "execution_count": 6,
   "metadata": {},
   "outputs": [],
   "source": [
    "# Import and preprocess the dataset; Source: https://github.com/owid/covid-19-data/tree/master/public/data\n",
    "\n",
    "def build_validation_dataset(country,t_start,t_end, target):\n",
    "    data_deaths = pd.read_csv(os.path.join(b_dir,'covid-data-deaths.csv')) # read dataset\n",
    "    data_deaths = data_deaths[['location','date','total_deaths']].fillna(0) # retrieve relevant columns and fill n.a. values\n",
    "    data_deaths = data_deaths.rename(columns=lambda x: x.capitalize())\n",
    "    data_deaths = data_deaths.rename(columns={'Total_deaths':'Deaths'})\n",
    "    \n",
    "    validation_data = data_deaths[data_deaths['Location']==country].reset_index(drop=True)[['Date','Deaths']]\n",
    "    t0 = validation_data.loc[validation_data['Date'] == t_start].index[0]\n",
    "    t1 = validation_data.loc[validation_data['Date'] == t_end].index[0]\n",
    "    validation_data = validation_data.iloc[t0:t1+1]\n",
    "    \n",
    "    if target == 'exp':\n",
    "        validation_data.to_csv(os.path.join(target_dir_experiment,'%s_deaths.csv' %country),index=False)\n",
    "    elif target == 'pol':\n",
    "        validation_data.to_csv(os.path.join(target_dir_policy,'%s_deaths.csv' %country),index=False)"
   ]
  },
  {
   "cell_type": "markdown",
   "metadata": {},
   "source": [
    "### 2.  Export Validation Datasets  \n",
    "<a id=\"export\"></a>"
   ]
  },
  {
   "cell_type": "markdown",
   "metadata": {},
   "source": [
    "### 2.1 Validation Datasets  for Experiments \n",
    "<a id=\"validation_ex\"></a>\n",
    "\n",
    "Export the validation dataset containing the information on the number of deaths from a chosen fixed date (arbitrary) up to the **15th of April** "
   ]
  },
  {
   "cell_type": "code",
   "execution_count": 7,
   "metadata": {},
   "outputs": [],
   "source": [
    "# Build validation dataset ITALY\n",
    "build_validation_dataset('Italy','2020-02-10','2020-04-15','exp')\n",
    "\n",
    "# Build validation dataset SPAIN\n",
    "build_validation_dataset('Spain','2020-02-10','2020-04-15','exp')\n",
    "\n",
    "# Build validation dataset GERMANY\n",
    "build_validation_dataset('Germany','2020-02-10','2020-04-15','exp')\n",
    "\n",
    "# Build validation dataset FRANCE\n",
    "build_validation_dataset('France','2020-02-10','2020-04-15','exp')"
   ]
  },
  {
   "cell_type": "markdown",
   "metadata": {},
   "source": [
    "### 2.2 Validation Datasets  for Policy \n",
    "<a id=\"validation_pol\"></a>\n",
    "\n",
    "Export the validation dataset containing the information on the number of deaths from a chosen fixed date (arbitrary) up to the **15th of May**  "
   ]
  },
  {
   "cell_type": "code",
   "execution_count": 8,
   "metadata": {},
   "outputs": [],
   "source": [
    "# Build validation dataset ITALY\n",
    "build_validation_dataset('Italy','2020-02-10','2020-05-15','pol')\n",
    "\n",
    "# Build validation dataset SPAIN\n",
    "build_validation_dataset('Spain','2020-02-10','2020-05-15','pol')\n",
    "\n",
    "# Build validation dataset GERMANY\n",
    "build_validation_dataset('Germany','2020-02-10','2020-05-15','pol')\n",
    "\n",
    "# Build validation dataset FRANCE\n",
    "build_validation_dataset('France','2020-02-10','2020-05-15','pol')"
   ]
  },
  {
   "cell_type": "code",
   "execution_count": null,
   "metadata": {},
   "outputs": [],
   "source": []
  }
 ],
 "metadata": {
  "kernelspec": {
   "display_name": "Python 3 (ipykernel)",
   "language": "python",
   "name": "python3"
  },
  "language_info": {
   "codemirror_mode": {
    "name": "ipython",
    "version": 3
   },
   "file_extension": ".py",
   "mimetype": "text/x-python",
   "name": "python",
   "nbconvert_exporter": "python",
   "pygments_lexer": "ipython3",
   "version": "3.8.11"
  }
 },
 "nbformat": 4,
 "nbformat_minor": 2
}
