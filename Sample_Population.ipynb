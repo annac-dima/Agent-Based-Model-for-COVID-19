{
 "cells": [
  {
   "cell_type": "markdown",
   "metadata": {},
   "source": [
    "## SAMPLE SYNTHETIC POPULATION "
   ]
  },
  {
   "cell_type": "markdown",
   "metadata": {},
   "source": [
    "###### CREATE A SYNTHETIC POPULATION OF n (=500k) AGENTS (.PICKLE FILE) \n",
    "\n",
    "Sample a population of *n* agents \n",
    "The output .pickle file will contain for each country the following elements\n",
    "\n",
    "- **AGE** : a np.array of length = n  which represents the age for each of the agents sampled \n",
    "- **HOUSEHOLDS**: a np.array of lenght = n indicating the type of household for each of the agents sampled\n",
    "- **HOUSEHOLDS_TOT**: a np.array indicating the cumulative number of households grouped by type of households\n",
    "- **DIABETES**: a np.array of length = n indicating whether the agent has or does not have diabetes  >>> values 1 or 0 \n",
    "- **HYPERTENSION**: a np.array of length = n indicating whether the agent has or does not have hypertension >>> values 1 or 0 \n",
    "- **AGE-GROUPS**: a np.array of length = 101 indicating the number of agents that have each specific age level == i \n",
    "\n",
    "This Script uses functions defined in the **Sample_Households** and **Sample_Comorbidities** Jupyter Notebooks. Therefore, these Notebooks have to be imported to be able to use the necessary functions. Specifically, this Notebook will first sample the Households strcutres and retreive the agents' age levels. Following, there will be associated to each agent its specific comorbid status.  "
   ]
  },
  {
   "cell_type": "markdown",
   "metadata": {},
   "source": [
    "### TABLE OF CONTENTS     \n",
    "[1. Sample Population Functions](#fn)       \n",
    "[2. Sample, Export and Save Synthetic Population](#pop_ex)    \n",
    "[3. Read Sampled Population](#read)      "
   ]
  },
  {
   "cell_type": "code",
   "execution_count": 1,
   "metadata": {},
   "outputs": [],
   "source": [
    "import pandas as pd\n",
    "import numpy as np\n",
    "import ipynb\n",
    "import pickle\n",
    "import os\n",
    "import json\n",
    "from ipynb.fs.full.Sample_Households import *  # import the Sample Comorbidities script and functions\n",
    "from ipynb.fs.full.Sample_Comorbidities import * # import the Sample Households script and functions\n",
    "\n",
    "b_dir = './' # set base directory "
   ]
  },
  {
   "cell_type": "markdown",
   "metadata": {},
   "source": [
    "### 1.  Sample Population Function\n",
    "<a id=\"fn\"></a>"
   ]
  },
  {
   "cell_type": "code",
   "execution_count": 2,
   "metadata": {},
   "outputs": [],
   "source": [
    "def sample_population(country,n = 10000000):\n",
    "    '''FUNCTION to sample a synthetic population'''\n",
    "\n",
    "    #np.random.seed(seed) # set the seed \n",
    "    n = int(n) # set the number of agents to simulate\n",
    "     \n",
    "    # Create households for the specific country --> RETURNS: Households, Age, Households_tot for each agent \n",
    "    # Functions from the Sample_Households Script \n",
    "    print(\"Making households... \")\n",
    "    if country == 'Italy':\n",
    "        households, age, households_tot = sample_households_italy(n)\n",
    "    elif country == 'Spain':\n",
    "        households, age, households_tot = sample_households_spain(n)\n",
    "    elif country == 'Germany':\n",
    "        households, age, households_tot = sample_households_germany(n)\n",
    "    elif country == 'France':\n",
    "        households, age, households_tot = sample_households_france(n)\n",
    "    else: \n",
    "        # function for the country is not defined -- error\n",
    "        print('Function not defined for country %s' %country)\n",
    "        \n",
    "    households = households.astype('int64') # set the type as int64\n",
    "    age = age.astype('int64') # set the type as int64\n",
    "    print(\"Done.\")\n",
    "    \n",
    "    # Create age_groups --> RETURNS: List of number of agents for each age value that have that age\n",
    "    print(\"Creating age group sector array... \")\n",
    "    n_age = 101 \n",
    "    age_groups = tuple([np.where(age == i)[0] for i in range(0, n_age)]) # gives the position of the elements for a given age value \n",
    "    print(\"Done.\")\n",
    "\n",
    "    # Sample comorbidities\n",
    "    # Fcuntions from the Sample_Comorbidities Script\n",
    "    print(\"Sampling comorbidities... \")\n",
    "    diabetes, hypertension = None, None # initialize diabetes and hypertension\n",
    "    diabetes, hypertension = sample_joint_comorbidities(age, country) # sample diabetes and hypertension for the country\n",
    "    diabetes = diabetes.astype('int64') # set the type as int64\n",
    "    hypertension = hypertension.astype('int64') # set the type as int64\n",
    "    print(\"Done.\")\n",
    "    \n",
    "    # Save and export to a pickle file \n",
    "    # Save in the inidicated base_directory \n",
    "    print(\"Saving... \")\n",
    "    pickle.dump((age, households, households_tot, diabetes, hypertension, age_groups), open(os.path.join(b_dir,'{}_population_{}.pickle'.format(country, int(n))), 'wb'), protocol=4)\n",
    "    print(\"Done.\")\n",
    "    print('####')"
   ]
  },
  {
   "cell_type": "markdown",
   "metadata": {},
   "source": [
    "### 2.  Sample, Export and Save Synthetic Population\n",
    "<a id=\"pop_ex\"></a>\n",
    "\n",
    "To execute the synthetic population sampling >> uncomment each of the sample_population() function of the following cell"
   ]
  },
  {
   "cell_type": "code",
   "execution_count": 3,
   "metadata": {},
   "outputs": [],
   "source": [
    "## SIMULATE SYNTHETIC POPULATION ITALY; 500k\n",
    "#sample_population('Italy',500000)\n",
    "\n",
    "## SIMULATE SYNTHETIC POPULATION SPAIN; 500k\n",
    "#sample_population('Spain',500000)\n",
    "\n",
    "## SIMULATE SYNTHETIC POPULATION GERMANY; 500k\n",
    "#sample_population('Germany',500000)\n",
    "\n",
    "## SIMULATE SYNTHETIC POPULATION FRANCE; 500k\n",
    "#sample_population('France',500000)"
   ]
  },
  {
   "cell_type": "markdown",
   "metadata": {},
   "source": [
    "### 3.  Read Sampled Population\n",
    "<a id=\"read\"></a>\n",
    "\n",
    "For further analysis on the Synthetic Population generated, it could be imported the Pickle File of interest by turning into 'Code' type the following cell and executing it. "
   ]
  },
  {
   "cell_type": "raw",
   "metadata": {},
   "source": [
    "## READ THE SIMULATED SYNTHETIC POPULATION FILE\n",
    "country = 'Italy' \n",
    "n = 500000\n",
    "\n",
    "age, households, households_tot, diabetes, hypertension, age_groups = pd.read_pickle(os.path.join(b_dir,'{0}_population_{1}.pickle'.format(country,n)))"
   ]
  },
  {
   "cell_type": "code",
   "execution_count": null,
   "metadata": {},
   "outputs": [],
   "source": []
  }
 ],
 "metadata": {
  "kernelspec": {
   "display_name": "Python 3 (ipykernel)",
   "language": "python",
   "name": "python3"
  },
  "language_info": {
   "codemirror_mode": {
    "name": "ipython",
    "version": 3
   },
   "file_extension": ".py",
   "mimetype": "text/x-python",
   "name": "python",
   "nbconvert_exporter": "python",
   "pygments_lexer": "ipython3",
   "version": "3.8.11"
  }
 },
 "nbformat": 4,
 "nbformat_minor": 2
}
