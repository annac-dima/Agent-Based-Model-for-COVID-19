{
 "cells": [
  {
   "cell_type": "markdown",
   "metadata": {},
   "source": [
    "### BUILD CONTACT MATRICES DATASETS\n",
    "\n",
    "Script to build the *Contact Matrices* for all the countries of interest"
   ]
  },
  {
   "cell_type": "markdown",
   "metadata": {},
   "source": [
    "**DATA SOURCE**: https://www.ncbi.nlm.nih.gov/pmc/articles/PMC5609774/#pcbi.1005697.s001; Age-and-location-specific contact matrices for 152 countries.  \n",
    "\n",
    "*Prem, K., Cook, A. R., & Jit, M. (2017). Projecting social contact matrices in 152 countries using contact surveys and demographic data. PLoS computational biology, 13(9), e1005697. https://doi.org/10.1371/journal.pcbi.1005697*"
   ]
  },
  {
   "cell_type": "markdown",
   "metadata": {},
   "source": [
    "### TABLE OF CONTENTS     \n",
    "[1. Build Contact Matrix Function Definition](#fun)       \n",
    "[2. Retrieve and Save Contact Matrices by Location and Country](#save)     \n",
    "[2.1 Italy Contact Matrices](#ita)    \n",
    "[2.2 Spain Contact Matrices](#spa)    \n",
    "[2.3 Germany Contact Matrices](#ger)    \n",
    "[2.4 France Contact Matrices](#fra)   "
   ]
  },
  {
   "cell_type": "code",
   "execution_count": 1,
   "metadata": {},
   "outputs": [],
   "source": [
    "# import libraries\n",
    "import numpy as np\n",
    "import pandas as pd\n",
    "import csv\n",
    "import math\n",
    "import os \n",
    "\n",
    "# b_dir: base directory >> define the source directory where is stored the Source Contact Matrix File\n",
    "b_dir = './Contact_Matrices Source' \n",
    "# target_dir: target directory >> define the target directory where to store results\n",
    "# !! NOTE !! The target directory should already contain all subdirectories for the countries of interest\n",
    "target_dir = './' "
   ]
  },
  {
   "cell_type": "markdown",
   "metadata": {},
   "source": [
    "### 1.  Build Contact Matrix Function Definition\n",
    "<a id=\"fun\"></a>"
   ]
  },
  {
   "cell_type": "code",
   "execution_count": 2,
   "metadata": {},
   "outputs": [],
   "source": [
    "################################\n",
    "### GET CONTACT MATRICES\n",
    "\n",
    "#contact_type = ['all_locations','home','school','work','other_locations']\n",
    "#file_numer = ['1','2'] # 1 from [Albania,Mozambique), 2 from [Mozambique,end]\n",
    "#country = ['Italy', 'etc'] # indicate the name of the country of interest \n",
    "\n",
    "def build_contact_matrix(contact_type,file_number,country):\n",
    "    def col_names():\n",
    "        # define columns names >> contact_1, contact_2 ... contact_16\n",
    "        col_names = []\n",
    "        for n in range(1,17):\n",
    "            col_names.append('contact_{}'.format(n))\n",
    "        return col_names\n",
    "\n",
    "    def row_names():\n",
    "        row_names = []\n",
    "        # define rows names >> infected_1, infected_2 ... infected_16\n",
    "        for n in range(1,17):\n",
    "            row_names.append('infected_{}'.format(n))\n",
    "        return row_names\n",
    "    # read the Source files indicating whether the filename is '1' or '2' depending on the country name and the contact_type\n",
    "    if file_number == '1':\n",
    "        data = pd.read_excel(os.path.join(b_dir,'MUestimates_{}_{}.xlsx'.format(contact_type,file_number)),sheet_name='{}'.format(country))\n",
    "    else: \n",
    "        data = pd.read_excel(os.path.join(b_dir,'MUestimates_{}_{}.xlsx'.format(contact_type,file_number)),sheet_name='{}'.format(country), header=None)\n",
    "    # build contact matrices \n",
    "    col_names = col_names()\n",
    "    data.columns = col_names\n",
    "    data['contact_total'] = data.sum(axis=1) # set columns names\n",
    "    data.index = row_names() # set rows names\n",
    "    if contact_type == 'all_locations': \n",
    "        file_name = 'All_{}'.format(country)\n",
    "    elif contact_type == 'home':\n",
    "        file_name = 'Home_{}'.format(country)\n",
    "    elif contact_type == 'other_locations':\n",
    "        file_name = 'other_{}'.format(country)\n",
    "    else: \n",
    "        file_name = '{}_{}'.format(contact_type,country)\n",
    "        \n",
    "    data.to_csv(os.path.join(target_dir,'{}/{}.csv'.format(country,file_name)), index=True)"
   ]
  },
  {
   "cell_type": "markdown",
   "metadata": {},
   "source": [
    "### 2.  Retrieve and Save Contact Matrices by Location and Country\n",
    "<a id=\"save\"></a>"
   ]
  },
  {
   "cell_type": "markdown",
   "metadata": {},
   "source": [
    "#### 2.1  Italy Contact Matrices \n",
    "<a id=\"ita\"></a>"
   ]
  },
  {
   "cell_type": "code",
   "execution_count": 3,
   "metadata": {},
   "outputs": [
    {
     "name": "stderr",
     "output_type": "stream",
     "text": [
      "C:\\Users\\anna9\\anaconda3\\lib\\site-packages\\openpyxl\\styles\\stylesheet.py:226: UserWarning: Workbook contains no default style, apply openpyxl's default\n",
      "  warn(\"Workbook contains no default style, apply openpyxl's default\")\n"
     ]
    }
   ],
   "source": [
    "### ITALY CONTACT MATRICES\n",
    "contact_type = 'all_locations'\n",
    "file_number = '1'\n",
    "country = 'Italy'\n",
    "build_contact_matrix(contact_type,file_number,country)\n",
    "\n",
    "contact_type = 'home'\n",
    "file_number = '1'\n",
    "country = 'Italy'\n",
    "build_contact_matrix(contact_type,file_number,country)\n",
    "\n",
    "contact_type = 'school'\n",
    "file_number = '1'\n",
    "country = 'Italy'\n",
    "build_contact_matrix(contact_type,file_number,country)\n",
    "\n",
    "contact_type = 'work'\n",
    "file_number = '1'\n",
    "country = 'Italy'\n",
    "build_contact_matrix(contact_type,file_number,country)\n",
    "\n",
    "contact_type = 'other_locations'\n",
    "file_number = '1'\n",
    "country = 'Italy'\n",
    "build_contact_matrix(contact_type,file_number,country)"
   ]
  },
  {
   "cell_type": "markdown",
   "metadata": {},
   "source": [
    "#### 2.2  Spain Contact Matrices \n",
    "<a id=\"spa\"></a>"
   ]
  },
  {
   "cell_type": "code",
   "execution_count": 4,
   "metadata": {},
   "outputs": [],
   "source": [
    "### SPAIN CONTACT MATRICES\n",
    "contact_type = 'all_locations'\n",
    "file_number = '2'\n",
    "country = 'Spain'\n",
    "build_contact_matrix(contact_type,file_number,country)\n",
    "\n",
    "contact_type = 'home'\n",
    "file_number = '2'\n",
    "country = 'Spain'\n",
    "build_contact_matrix(contact_type,file_number,country)\n",
    "\n",
    "contact_type = 'school'\n",
    "file_number = '2'\n",
    "country = 'Spain'\n",
    "build_contact_matrix(contact_type,file_number,country)\n",
    "\n",
    "contact_type = 'work'\n",
    "file_number = '2'\n",
    "country = 'Spain'\n",
    "build_contact_matrix(contact_type,file_number,country)\n",
    "\n",
    "contact_type = 'other_locations'\n",
    "file_number = '2'\n",
    "country = 'Spain'\n",
    "build_contact_matrix(contact_type,file_number,country)"
   ]
  },
  {
   "cell_type": "markdown",
   "metadata": {},
   "source": [
    "#### 2.3  Germany Contact Matrices \n",
    "<a id=\"ger\"></a>"
   ]
  },
  {
   "cell_type": "code",
   "execution_count": 5,
   "metadata": {},
   "outputs": [],
   "source": [
    "### GERMANY CONTACT MATRICES\n",
    "contact_type = 'all_locations'\n",
    "file_number = '1'\n",
    "country = 'Germany'\n",
    "build_contact_matrix(contact_type,file_number,country)\n",
    "\n",
    "contact_type = 'home'\n",
    "file_number = '1'\n",
    "country = 'Germany'\n",
    "build_contact_matrix(contact_type,file_number,country)\n",
    "\n",
    "contact_type = 'school'\n",
    "file_number = '1'\n",
    "country = 'Germany'\n",
    "build_contact_matrix(contact_type,file_number,country)\n",
    "\n",
    "contact_type = 'work'\n",
    "file_number = '1'\n",
    "country = 'Germany'\n",
    "build_contact_matrix(contact_type,file_number,country)\n",
    "\n",
    "contact_type = 'other_locations'\n",
    "file_number = '1'\n",
    "country = 'Germany'\n",
    "build_contact_matrix(contact_type,file_number,country)"
   ]
  },
  {
   "cell_type": "markdown",
   "metadata": {},
   "source": [
    "#### 2.4  France Contact Matrices \n",
    "<a id=\"fra\"></a>"
   ]
  },
  {
   "cell_type": "code",
   "execution_count": 6,
   "metadata": {},
   "outputs": [],
   "source": [
    "### FRANCE CONTACT MATRICES\n",
    "contact_type = 'all_locations'\n",
    "file_number = '1'\n",
    "country = 'France'\n",
    "build_contact_matrix(contact_type,file_number,country)\n",
    "\n",
    "contact_type = 'home'\n",
    "file_number = '1'\n",
    "country = 'France'\n",
    "build_contact_matrix(contact_type,file_number,country)\n",
    "\n",
    "contact_type = 'school'\n",
    "file_number = '1'\n",
    "country = 'France'\n",
    "build_contact_matrix(contact_type,file_number,country)\n",
    "\n",
    "contact_type = 'work'\n",
    "file_number = '1'\n",
    "country = 'France'\n",
    "build_contact_matrix(contact_type,file_number,country)\n",
    "\n",
    "contact_type = 'other_locations'\n",
    "file_number = '1'\n",
    "country = 'France'\n",
    "build_contact_matrix(contact_type,file_number,country)"
   ]
  },
  {
   "cell_type": "raw",
   "metadata": {},
   "source": [
    "# ETC . . . "
   ]
  },
  {
   "cell_type": "code",
   "execution_count": null,
   "metadata": {},
   "outputs": [],
   "source": []
  }
 ],
 "metadata": {
  "kernelspec": {
   "display_name": "Python 3 (ipykernel)",
   "language": "python",
   "name": "python3"
  },
  "language_info": {
   "codemirror_mode": {
    "name": "ipython",
    "version": 3
   },
   "file_extension": ".py",
   "mimetype": "text/x-python",
   "name": "python",
   "nbconvert_exporter": "python",
   "pygments_lexer": "ipython3",
   "version": "3.8.11"
  }
 },
 "nbformat": 4,
 "nbformat_minor": 2
}
